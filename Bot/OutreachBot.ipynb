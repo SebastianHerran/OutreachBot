{
 "cells": [
  {
   "cell_type": "code",
   "execution_count": 1,
   "id": "97676641-6aa9-4b58-a77c-c02e046e6c2c",
   "metadata": {},
   "outputs": [],
   "source": [
    "import requests\n",
    "import os\n",
    "from bs4 import BeautifulSoup\n",
    "import pandas as pd\n",
    "from selenium import webdriver\n",
    "from selenium.webdriver.support.ui import WebDriverWait\n",
    "from selenium.webdriver.support import expected_conditions as EC\n",
    "from selenium.webdriver.common.by import By\n",
    "from selenium.webdriver.remote.webelement import WebElement\n",
    "from selenium.webdriver.chrome.options import Options"
   ]
  },
  {
   "cell_type": "markdown",
   "id": "b901536b-f30e-4c6f-931f-57c1786349b3",
   "metadata": {},
   "source": [
    "### Extract Facebook links from company webpages"
   ]
  },
  {
   "cell_type": "code",
   "execution_count": 2,
   "id": "c260d5ef-325a-4711-9f0a-9f67b8bd9208",
   "metadata": {
    "tags": []
   },
   "outputs": [],
   "source": [
    "def selenium_extract_face_link(url):\n",
    "    global driver\n",
    "    options_chrome = Options()\n",
    "    options_chrome.add_argument(\"headless\")\n",
    "    driver.get(url)\n",
    "    WebDriverWait(driver, 4).until(EC.presence_of_element_located((By.CSS_SELECTOR, facebook_css)))\n",
    "    empresa = driver.page_source\n",
    "    soup_emp = BeautifulSoup(empresa, 'lxml')\n",
    "    driver.quit()\n",
    "    return soup_emp"
   ]
  },
  {
   "cell_type": "code",
   "execution_count": 3,
   "id": "1c0d0c86-cb18-41cd-8821-7105f5eec2d7",
   "metadata": {},
   "outputs": [],
   "source": [
    "def RodoBot_extract_fbs(urls):   \n",
    "    feisbucs=[]\n",
    "    facebook_css = '[href*=\"facebook.com/\"]:not([href*=\"facebook.com/sharer\"])'\n",
    "    global driver\n",
    "    for url in urls:\n",
    "        try:\n",
    "            empresa = requests.get(url)\n",
    "            soup_emp = BeautifulSoup(empresa.content, 'lxml')\n",
    "            face_link= soup_emp.select(facebook_css)\n",
    "            \n",
    "            if len(face_link) > 0: feisbucs.append(face_link[0]['href'])\n",
    "            else: raise Exception(\"No Facebook link found\")\n",
    "        except:\n",
    "            try:\n",
    "                face_link= selenium_extract_face_link(url).select(facebook_css) \n",
    "                feisbucs.append(face_link[0]['href'])\n",
    "            except:\n",
    "                try:\n",
    "                        face_link= selenium_extract_face_link(url).select(facebook_css) \n",
    "                        feisbucs.append(face_link[0]['href'])\n",
    "                except:\n",
    "                        feisbucs.append('')\n",
    "    return feisbucs"
   ]
  },
  {
   "cell_type": "markdown",
   "id": "6edf4df5-5941-4704-90f8-ab9f21104264",
   "metadata": {},
   "source": [
    "### Outreach Bot"
   ]
  },
  {
   "cell_type": "code",
   "execution_count": 4,
   "id": "19b9caad-abbf-4d49-8555-0064d1a98ae5",
   "metadata": {
    "tags": []
   },
   "outputs": [],
   "source": [
    "def OutreachBot(urls):    \n",
    "    feisbucs = RodoBot_extract_fbs(urls)\n",
    "\n",
    "    links = pd.DataFrame(zip(urls,feisbucs), columns=['Company Site','Facebook'])\n",
    "    \n",
    "    return links"
   ]
  },
  {
   "cell_type": "markdown",
   "id": "c2404c89-17af-4dc1-9dbd-72381ac1f062",
   "metadata": {},
   "source": [
    "### Input"
   ]
  },
  {
   "cell_type": "code",
   "execution_count": 5,
   "id": "28ed317a-38ab-4a86-9ba4-7f696506410b",
   "metadata": {
    "tags": []
   },
   "outputs": [],
   "source": [
    "input_file = os.listdir(os.path.dirname(os.path.abspath('__file__'))+'\\\\Input')\n",
    "df_input = pd.read_csv(os.path.dirname(os.path.abspath('__file__'))+'\\\\Input\\\\'+input_file[0])"
   ]
  },
  {
   "cell_type": "markdown",
   "id": "d5f1197e-59e1-4d15-b470-8a159fb96dad",
   "metadata": {},
   "source": [
    "### Output"
   ]
  },
  {
   "cell_type": "code",
   "execution_count": 8,
   "id": "249c7549-3564-422b-b5f2-eb0f12208d3c",
   "metadata": {
    "tags": []
   },
   "outputs": [
    {
     "name": "stdout",
     "output_type": "stream",
     "text": [
      "Done! The Output File is now on the Output Folder\n"
     ]
    }
   ],
   "source": [
    "df_output = OutreachBot(df_input.iloc[:,0])\n",
    "print('Done! The Output File is now on the Output Folder')\n",
    "df_output.to_csv(os.path.dirname(os.path.abspath('__file__'))+'\\\\Output\\\\'+f'Output-{input_file[0]}.csv')"
   ]
  },
  {
   "cell_type": "code",
   "execution_count": 10,
   "id": "99883100-2ef7-44d1-8a51-192252feb869",
   "metadata": {},
   "outputs": [
    {
     "data": {
      "text/html": [
       "<div>\n",
       "<style scoped>\n",
       "    .dataframe tbody tr th:only-of-type {\n",
       "        vertical-align: middle;\n",
       "    }\n",
       "\n",
       "    .dataframe tbody tr th {\n",
       "        vertical-align: top;\n",
       "    }\n",
       "\n",
       "    .dataframe thead th {\n",
       "        text-align: right;\n",
       "    }\n",
       "</style>\n",
       "<table border=\"1\" class=\"dataframe\">\n",
       "  <thead>\n",
       "    <tr style=\"text-align: right;\">\n",
       "      <th></th>\n",
       "      <th>Company Site</th>\n",
       "      <th>Facebook</th>\n",
       "    </tr>\n",
       "  </thead>\n",
       "  <tbody>\n",
       "    <tr>\n",
       "      <th>0</th>\n",
       "      <td>https://www.quillmag.com/2021/03/22/10-with-du...</td>\n",
       "      <td>https://www.facebook.com/pages/Society-of-Prof...</td>\n",
       "    </tr>\n",
       "    <tr>\n",
       "      <th>1</th>\n",
       "      <td>https://sdbn.org/events/2020/10/19/sdee-novemb...</td>\n",
       "      <td></td>\n",
       "    </tr>\n",
       "    <tr>\n",
       "      <th>2</th>\n",
       "      <td>https://www.relectrify.com/newsblog/relectrify...</td>\n",
       "      <td>https://www.facebook.com/relectrify/</td>\n",
       "    </tr>\n",
       "    <tr>\n",
       "      <th>3</th>\n",
       "      <td>https://www.opencompanyhongkong.com/fintech-in...</td>\n",
       "      <td>https://www.facebook.com/pages/Lawyers-in-Hong...</td>\n",
       "    </tr>\n",
       "    <tr>\n",
       "      <th>4</th>\n",
       "      <td>https://startupsd.org/eir-program/</td>\n",
       "      <td>https://facebook.com/startupsd</td>\n",
       "    </tr>\n",
       "    <tr>\n",
       "      <th>5</th>\n",
       "      <td>https://www.cherrycreekfashion.com/issue/shana...</td>\n",
       "      <td></td>\n",
       "    </tr>\n",
       "    <tr>\n",
       "      <th>6</th>\n",
       "      <td>https://euromed-economists.org/investmed-call-...</td>\n",
       "      <td>https://www.facebook.com/EMEA.org/</td>\n",
       "    </tr>\n",
       "    <tr>\n",
       "      <th>7</th>\n",
       "      <td>https://newcastlestartupweek.com/5starfocus/</td>\n",
       "      <td>https://www.facebook.com/NewcastleStartupWeek/</td>\n",
       "    </tr>\n",
       "    <tr>\n",
       "      <th>8</th>\n",
       "      <td>https://locumstory.com/spotlight/webinar-findi...</td>\n",
       "      <td>https://www.facebook.com/locumstory/</td>\n",
       "    </tr>\n",
       "    <tr>\n",
       "      <th>9</th>\n",
       "      <td>https://www.specialarabia.com/en/details/BEAUT...</td>\n",
       "      <td>https://www.facebook.com/SPECIAL-MAGAZINE-9992...</td>\n",
       "    </tr>\n",
       "    <tr>\n",
       "      <th>10</th>\n",
       "      <td>https://vino-joy.com/2021/07/08/chinas-vivino-...</td>\n",
       "      <td>https://www.facebook.com/VinoJoyNews/</td>\n",
       "    </tr>\n",
       "    <tr>\n",
       "      <th>11</th>\n",
       "      <td>https://futurefamilyoffice.net/news/financial-...</td>\n",
       "      <td>https://www.facebook.com/Future-111511173824711/</td>\n",
       "    </tr>\n",
       "    <tr>\n",
       "      <th>12</th>\n",
       "      <td>https://industrieafrica.com/collections/okapi</td>\n",
       "      <td>https://www.facebook.com/industrieafrica/</td>\n",
       "    </tr>\n",
       "    <tr>\n",
       "      <th>13</th>\n",
       "      <td>https://www.mobilemarketingreads.com/duolingo-...</td>\n",
       "      <td></td>\n",
       "    </tr>\n",
       "    <tr>\n",
       "      <th>14</th>\n",
       "      <td>https://www.totesavvy.com/blogs/inside-totesav...</td>\n",
       "      <td>https://www.facebook.com/lifeinplaycompany</td>\n",
       "    </tr>\n",
       "  </tbody>\n",
       "</table>\n",
       "</div>"
      ],
      "text/plain": [
       "                                         Company Site  \\\n",
       "0   https://www.quillmag.com/2021/03/22/10-with-du...   \n",
       "1   https://sdbn.org/events/2020/10/19/sdee-novemb...   \n",
       "2   https://www.relectrify.com/newsblog/relectrify...   \n",
       "3   https://www.opencompanyhongkong.com/fintech-in...   \n",
       "4                  https://startupsd.org/eir-program/   \n",
       "5   https://www.cherrycreekfashion.com/issue/shana...   \n",
       "6   https://euromed-economists.org/investmed-call-...   \n",
       "7        https://newcastlestartupweek.com/5starfocus/   \n",
       "8   https://locumstory.com/spotlight/webinar-findi...   \n",
       "9   https://www.specialarabia.com/en/details/BEAUT...   \n",
       "10  https://vino-joy.com/2021/07/08/chinas-vivino-...   \n",
       "11  https://futurefamilyoffice.net/news/financial-...   \n",
       "12      https://industrieafrica.com/collections/okapi   \n",
       "13  https://www.mobilemarketingreads.com/duolingo-...   \n",
       "14  https://www.totesavvy.com/blogs/inside-totesav...   \n",
       "\n",
       "                                             Facebook  \n",
       "0   https://www.facebook.com/pages/Society-of-Prof...  \n",
       "1                                                      \n",
       "2                https://www.facebook.com/relectrify/  \n",
       "3   https://www.facebook.com/pages/Lawyers-in-Hong...  \n",
       "4                      https://facebook.com/startupsd  \n",
       "5                                                      \n",
       "6                  https://www.facebook.com/EMEA.org/  \n",
       "7      https://www.facebook.com/NewcastleStartupWeek/  \n",
       "8                https://www.facebook.com/locumstory/  \n",
       "9   https://www.facebook.com/SPECIAL-MAGAZINE-9992...  \n",
       "10              https://www.facebook.com/VinoJoyNews/  \n",
       "11   https://www.facebook.com/Future-111511173824711/  \n",
       "12          https://www.facebook.com/industrieafrica/  \n",
       "13                                                     \n",
       "14         https://www.facebook.com/lifeinplaycompany  "
      ]
     },
     "execution_count": 10,
     "metadata": {},
     "output_type": "execute_result"
    }
   ],
   "source": [
    "df_output"
   ]
  },
  {
   "cell_type": "code",
   "execution_count": null,
   "id": "7324fff5-9a2a-441f-b42b-9a87c48a30ff",
   "metadata": {},
   "outputs": [],
   "source": []
  }
 ],
 "metadata": {
  "kernelspec": {
   "display_name": "Python 3 (ipykernel)",
   "language": "python",
   "name": "python3"
  },
  "language_info": {
   "codemirror_mode": {
    "name": "ipython",
    "version": 3
   },
   "file_extension": ".py",
   "mimetype": "text/x-python",
   "name": "python",
   "nbconvert_exporter": "python",
   "pygments_lexer": "ipython3",
   "version": "3.9.7"
  }
 },
 "nbformat": 4,
 "nbformat_minor": 5
}
